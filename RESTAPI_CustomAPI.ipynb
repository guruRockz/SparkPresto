{
 "cells": [
  {
   "cell_type": "code",
   "execution_count": 8,
   "metadata": {},
   "outputs": [],
   "source": [
    "testuri = 'https://imdb.hriks.com/person/?format=json'"
   ]
  },
  {
   "cell_type": "code",
   "execution_count": 12,
   "metadata": {},
   "outputs": [],
   "source": [
    "inputDf = spark.read.option('header', 'true').csv('./testinp.csv')"
   ]
  },
  {
   "cell_type": "code",
   "execution_count": 13,
   "metadata": {},
   "outputs": [],
   "source": [
    "inputDf.createOrReplaceTempView('testinptbl')"
   ]
  },
  {
   "cell_type": "code",
   "execution_count": 14,
   "metadata": {},
   "outputs": [
    {
     "name": "stdout",
     "output_type": "stream",
     "text": [
      "+------+-----+------+\n",
      "|format|limit|offset|\n",
      "+------+-----+------+\n",
      "|  json|   50|   100|\n",
      "+------+-----+------+\n",
      "\n"
     ]
    }
   ],
   "source": [
    "spark.sql(\"select * from testinptbl\").show()"
   ]
  },
  {
   "cell_type": "code",
   "execution_count": 15,
   "metadata": {},
   "outputs": [],
   "source": [
    "prmstest = { 'url' : testuri, 'input': \"testinptbl\", 'method' : 'GET', 'readTimeout' : '10000', 'connectionTimeout' : '2000', 'partitions' : '10'}"
   ]
  },
  {
   "cell_type": "code",
   "execution_count": null,
   "metadata": {},
   "outputs": [],
   "source": []
  },
  {
   "cell_type": "code",
   "execution_count": 16,
   "metadata": {},
   "outputs": [],
   "source": [
    "testDF = spark.read.format(\"org.apache.dsext.spark.datasource.rest.RestDataSource\").options(**prmstest).load()"
   ]
  },
  {
   "cell_type": "code",
   "execution_count": 17,
   "metadata": {},
   "outputs": [
    {
     "name": "stdout",
     "output_type": "stream",
     "text": [
      "root\n",
      " |-- format: string (nullable = true)\n",
      " |-- limit: string (nullable = true)\n",
      " |-- offset: string (nullable = true)\n",
      " |-- output: struct (nullable = true)\n",
      " |    |-- count: long (nullable = true)\n",
      " |    |-- next: string (nullable = true)\n",
      " |    |-- previous: string (nullable = true)\n",
      " |    |-- results: array (nullable = true)\n",
      " |    |    |-- element: struct (containsNull = true)\n",
      " |    |    |    |-- categories: array (nullable = true)\n",
      " |    |    |    |    |-- element: string (containsNull = true)\n",
      " |    |    |    |-- country: string (nullable = true)\n",
      " |    |    |    |-- full_name: string (nullable = true)\n",
      " |    |    |    |-- id: long (nullable = true)\n",
      "\n"
     ]
    }
   ],
   "source": [
    "testDF.printSchema()"
   ]
  },
  {
   "cell_type": "code",
   "execution_count": 18,
   "metadata": {},
   "outputs": [
    {
     "data": {
      "text/plain": [
       "[StructField(format,StringType,true),\n",
       " StructField(limit,StringType,true),\n",
       " StructField(offset,StringType,true),\n",
       " StructField(output,StructType(List(StructField(count,LongType,true),StructField(next,StringType,true),StructField(previous,StringType,true),StructField(results,ArrayType(StructType(List(StructField(categories,ArrayType(StringType,true),true),StructField(country,StringType,true),StructField(full_name,StringType,true),StructField(id,LongType,true))),true),true))),true)]"
      ]
     },
     "execution_count": 18,
     "metadata": {},
     "output_type": "execute_result"
    }
   ],
   "source": [
    "testDF.schema.fields"
   ]
  },
  {
   "cell_type": "code",
   "execution_count": 21,
   "metadata": {},
   "outputs": [],
   "source": [
    "testDF.createOrReplaceTempView(\"imdbpers\")"
   ]
  },
  {
   "cell_type": "code",
   "execution_count": 22,
   "metadata": {},
   "outputs": [
    {
     "name": "stdout",
     "output_type": "stream",
     "text": [
      "+------+-----+------+--------------------+\n",
      "|format|limit|offset|              output|\n",
      "+------+-----+------+--------------------+\n",
      "|  json|   50|   100|[10265, http://im...|\n",
      "+------+-----+------+--------------------+\n",
      "\n"
     ]
    }
   ],
   "source": [
    "spark.sql(\"select * from imdbpers\").show()"
   ]
  },
  {
   "cell_type": "code",
   "execution_count": 23,
   "metadata": {},
   "outputs": [
    {
     "name": "stdout",
     "output_type": "stream",
     "text": [
      "+-----+\n",
      "|count|\n",
      "+-----+\n",
      "|10265|\n",
      "+-----+\n",
      "\n"
     ]
    }
   ],
   "source": [
    "spark.sql(\"select output.count from imdbpers\").show()"
   ]
  },
  {
   "cell_type": "code",
   "execution_count": 24,
   "metadata": {},
   "outputs": [
    {
     "name": "stdout",
     "output_type": "stream",
     "text": [
      "+--------------------+\n",
      "|             results|\n",
      "+--------------------+\n",
      "|[[[actor], USA, M...|\n",
      "+--------------------+\n",
      "\n"
     ]
    }
   ],
   "source": [
    "spark.sql(\"select output.results from imdbpers\").show()"
   ]
  },
  {
   "cell_type": "code",
   "execution_count": 25,
   "metadata": {},
   "outputs": [
    {
     "name": "stdout",
     "output_type": "stream",
     "text": [
      "+--------------------+\n",
      "|           full_name|\n",
      "+--------------------+\n",
      "|[Mila Kunis, Tim ...|\n",
      "+--------------------+\n",
      "\n"
     ]
    }
   ],
   "source": [
    "spark.sql(\"select output.results.full_name from imdbpers\").show()"
   ]
  },
  {
   "cell_type": "code",
   "execution_count": 45,
   "metadata": {},
   "outputs": [],
   "source": [
    "-"
   ]
  },
  {
   "cell_type": "code",
   "execution_count": 46,
   "metadata": {},
   "outputs": [
    {
     "name": "stdout",
     "output_type": "stream",
     "text": [
      "{'output': StructType(List(StructField(count,LongType,true),StructField(next,StringType,true),StructField(previous,StringType,true),StructField(results,ArrayType(StructType(List(StructField(categories,ArrayType(StringType,true),true),StructField(country,StringType,true),StructField(full_name,StringType,true),StructField(id,LongType,true))),true),true)))}\n",
      "1\n",
      "output_\n",
      "output\n",
      "[Column<b'output.count AS `output_count`'>, Column<b'output.next AS `output_next`'>, Column<b'output.previous AS `output_previous`'>, Column<b'output.results AS `output_results`'>]\n",
      "root\n",
      " |-- format: string (nullable = true)\n",
      " |-- limit: string (nullable = true)\n",
      " |-- offset: string (nullable = true)\n",
      " |-- output_count: long (nullable = true)\n",
      " |-- output_next: string (nullable = true)\n",
      " |-- output_previous: string (nullable = true)\n",
      " |-- output_results: array (nullable = true)\n",
      " |    |-- element: struct (containsNull = true)\n",
      " |    |    |-- categories: array (nullable = true)\n",
      " |    |    |    |-- element: string (containsNull = true)\n",
      " |    |    |-- country: string (nullable = true)\n",
      " |    |    |-- full_name: string (nullable = true)\n",
      " |    |    |-- id: long (nullable = true)\n",
      "\n",
      "output_results\n",
      "root\n",
      " |-- format: string (nullable = true)\n",
      " |-- limit: string (nullable = true)\n",
      " |-- offset: string (nullable = true)\n",
      " |-- output_count: long (nullable = true)\n",
      " |-- output_next: string (nullable = true)\n",
      " |-- output_previous: string (nullable = true)\n",
      " |-- output_results: struct (nullable = true)\n",
      " |    |-- categories: array (nullable = true)\n",
      " |    |    |-- element: string (containsNull = true)\n",
      " |    |-- country: string (nullable = true)\n",
      " |    |-- full_name: string (nullable = true)\n",
      " |    |-- id: long (nullable = true)\n",
      "\n",
      "output_results\n",
      "[Column<b'output_results.categories AS `output_results_categories`'>, Column<b'output_results.country AS `output_results_country`'>, Column<b'output_results.full_name AS `output_results_full_name`'>, Column<b'output_results.id AS `output_results_id`'>]\n",
      "root\n",
      " |-- format: string (nullable = true)\n",
      " |-- limit: string (nullable = true)\n",
      " |-- offset: string (nullable = true)\n",
      " |-- output_count: long (nullable = true)\n",
      " |-- output_next: string (nullable = true)\n",
      " |-- output_previous: string (nullable = true)\n",
      " |-- output_results_categories: array (nullable = true)\n",
      " |    |-- element: string (containsNull = true)\n",
      " |-- output_results_country: string (nullable = true)\n",
      " |-- output_results_full_name: string (nullable = true)\n",
      " |-- output_results_id: long (nullable = true)\n",
      "\n",
      "output_results_categories\n",
      "root\n",
      " |-- format: string (nullable = true)\n",
      " |-- limit: string (nullable = true)\n",
      " |-- offset: string (nullable = true)\n",
      " |-- output_count: long (nullable = true)\n",
      " |-- output_next: string (nullable = true)\n",
      " |-- output_previous: string (nullable = true)\n",
      " |-- output_results_categories: string (nullable = true)\n",
      " |-- output_results_country: string (nullable = true)\n",
      " |-- output_results_full_name: string (nullable = true)\n",
      " |-- output_results_id: long (nullable = true)\n",
      "\n"
     ]
    }
   ],
   "source": [
    "flatDF = flatten(testDF, True)"
   ]
  },
  {
   "cell_type": "code",
   "execution_count": 28,
   "metadata": {},
   "outputs": [
    {
     "name": "stdout",
     "output_type": "stream",
     "text": [
      "root\n",
      " |-- format: string (nullable = true)\n",
      " |-- limit: string (nullable = true)\n",
      " |-- offset: string (nullable = true)\n",
      " |-- count: long (nullable = true)\n",
      " |-- next: string (nullable = true)\n",
      " |-- previous: string (nullable = true)\n",
      " |-- results_categories: string (nullable = true)\n",
      " |-- results_country: string (nullable = true)\n",
      " |-- results_full_name: string (nullable = true)\n",
      " |-- results_id: long (nullable = true)\n",
      "\n"
     ]
    }
   ],
   "source": [
    "flatDF.printSchema()"
   ]
  },
  {
   "cell_type": "code",
   "execution_count": 29,
   "metadata": {},
   "outputs": [],
   "source": [
    "flatDF.createOrReplaceTempView(\"flatTbl\")"
   ]
  },
  {
   "cell_type": "code",
   "execution_count": 35,
   "metadata": {},
   "outputs": [
    {
     "name": "stdout",
     "output_type": "stream",
     "text": [
      "+------+-----+--------------------+--------+------------------+---------------+-----------------+----------+\n",
      "|format|count|                next|previous|results_categories|results_country|results_full_name|results_id|\n",
      "+------+-----+--------------------+--------+------------------+---------------+-----------------+----------+\n",
      "|  json|10265|http://imdb.hriks...|    null|             actor|           null| Amit Kumar Gupta|         1|\n",
      "|  json|10265|http://imdb.hriks...|    null|           romance|            IND|    hritik Roshan|         2|\n",
      "|  json|10265|http://imdb.hriks...|    null|            horror|            IND|    hritik Roshan|         2|\n",
      "|  json|10265|http://imdb.hriks...|    null|             actor|           null|      Robert D jr|         3|\n",
      "|  json|10265|http://imdb.hriks...|    null|           romance|            IND|    hritik Roshan|         4|\n",
      "|  json|10265|http://imdb.hriks...|    null|            horror|            IND|    hritik Roshan|         4|\n",
      "|  json|10265|http://imdb.hriks...|    null|             actor|            USA| Joel David Moore|         5|\n",
      "|  json|10265|http://imdb.hriks...|    null|             actor|            USA|      CCH Pounder|         6|\n",
      "|  json|10265|http://imdb.hriks...|    null|             actor|            USA|        Wes Studi|         7|\n",
      "|  json|10265|http://imdb.hriks...|    null|           romance|            IND|    hritik Roshan|         8|\n",
      "+------+-----+--------------------+--------+------------------+---------------+-----------------+----------+\n",
      "only showing top 10 rows\n",
      "\n"
     ]
    }
   ],
   "source": [
    "spark.sql(\"select * from flatTbl\").show(10)"
   ]
  },
  {
   "cell_type": "code",
   "execution_count": 36,
   "metadata": {},
   "outputs": [],
   "source": [
    "date_info = {'year': \"2020\", 'month': \"01\", 'day': \"01\"}"
   ]
  },
  {
   "cell_type": "code",
   "execution_count": 39,
   "metadata": {},
   "outputs": [],
   "source": [
    "def myfunc(year, month, day):\n",
    "    print(year, month,day)"
   ]
  },
  {
   "cell_type": "code",
   "execution_count": 40,
   "metadata": {},
   "outputs": [
    {
     "name": "stdout",
     "output_type": "stream",
     "text": [
      "2020 01 01\n"
     ]
    }
   ],
   "source": [
    "myfunc(**date_info)"
   ]
  },
  {
   "cell_type": "code",
   "execution_count": 41,
   "metadata": {},
   "outputs": [],
   "source": [
    "run = spark.read.format(\"org.apache.dsext.spark.datasource.rest.RestDataSource\")"
   ]
  },
  {
   "cell_type": "code",
   "execution_count": null,
   "metadata": {},
   "outputs": [],
   "source": []
  },
  {
   "cell_type": "code",
   "execution_count": 42,
   "metadata": {},
   "outputs": [
    {
     "data": {
      "text/plain": [
       "pyspark.sql.readwriter.DataFrameReader"
      ]
     },
     "execution_count": 42,
     "metadata": {},
     "output_type": "execute_result"
    }
   ],
   "source": [
    "type(run)"
   ]
  },
  {
   "cell_type": "code",
   "execution_count": 43,
   "metadata": {},
   "outputs": [
    {
     "ename": "NameError",
     "evalue": "name 'DataFrameReader' is not defined",
     "output_type": "error",
     "traceback": [
      "\u001b[0;31m---------------------------------------------------------------------------\u001b[0m",
      "\u001b[0;31mNameError\u001b[0m                                 Traceback (most recent call last)",
      "\u001b[0;32m<ipython-input-43-202532edb80c>\u001b[0m in \u001b[0;36m<module>\u001b[0;34m\u001b[0m\n\u001b[0;32m----> 1\u001b[0;31m \u001b[0mDataFrameReader\u001b[0m\u001b[0;34m\u001b[0m\u001b[0;34m\u001b[0m\u001b[0m\n\u001b[0m",
      "\u001b[0;31mNameError\u001b[0m: name 'DataFrameReader' is not defined"
     ]
    }
   ],
   "source": []
  },
  {
   "cell_type": "code",
   "execution_count": null,
   "metadata": {},
   "outputs": [],
   "source": []
  }
 ],
 "metadata": {
  "kernelspec": {
   "display_name": "Python 3",
   "language": "python",
   "name": "python3"
  },
  "language_info": {
   "codemirror_mode": {
    "name": "ipython",
    "version": 3
   },
   "file_extension": ".py",
   "mimetype": "text/x-python",
   "name": "python",
   "nbconvert_exporter": "python",
   "pygments_lexer": "ipython3",
   "version": "3.6.9"
  }
 },
 "nbformat": 4,
 "nbformat_minor": 2
}
