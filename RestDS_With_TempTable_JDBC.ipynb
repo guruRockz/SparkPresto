{
 "cells": [
  {
   "cell_type": "code",
   "execution_count": 1,
   "metadata": {},
   "outputs": [],
   "source": [
    "#!pip3 install pandas"
   ]
  },
  {
   "cell_type": "code",
   "execution_count": 4,
   "metadata": {},
   "outputs": [],
   "source": [
    "#from pyspark.sql import SQLContext\n",
    "from py4j.java_gateway import java_import\n",
    "#import pandas as pd"
   ]
  },
  {
   "cell_type": "code",
   "execution_count": 16,
   "metadata": {},
   "outputs": [],
   "source": [
    "spark = SparkSession \\\n",
    "    .builder \\\n",
    "    .appName('restlogs_qlik') \\\n",
    "    .enableHiveSupport()\\\n",
    "    .config('spark.sql.hive.thriftServer.singleSession', True)\\\n",
    "    .config('hive.server2.authentication','NONE')\\\n",
    "    .config('hive.server2.thrift.port', '10003')\\\n",
    "    .config('hive.server2.singleSession',\"True\")\\\n",
    "    .config('hive.server2.thrift.singleSession',\"True\")\\\n",
    "    .getOrCreate()"
   ]
  },
  {
   "cell_type": "code",
   "execution_count": 17,
   "metadata": {},
   "outputs": [],
   "source": [
    "sc=spark.sparkContext\n",
    "sc.setLogLevel('INFO')"
   ]
  },
  {
   "cell_type": "code",
   "execution_count": 18,
   "metadata": {},
   "outputs": [
    {
     "data": {
      "text/plain": [
       "JavaObject id=o178"
      ]
     },
     "execution_count": 18,
     "metadata": {},
     "output_type": "execute_result"
    }
   ],
   "source": [
    "java_import(sc._gateway.jvm, \"\")\n",
    "sc._gateway.jvm.org.apache.spark.sql.hive.thriftserver.HiveThriftServer2.startWithContext(spark._jwrapped)"
   ]
  },
  {
   "cell_type": "code",
   "execution_count": 19,
   "metadata": {},
   "outputs": [],
   "source": [
    "muvyUri = \"https://imdb.hriks.com/person/\""
   ]
  },
  {
   "cell_type": "code",
   "execution_count": 20,
   "metadata": {},
   "outputs": [],
   "source": [
    "inputDf = spark.read.option('header', 'true').csv('./testinp.csv')\n",
    "inputDf.createOrReplaceTempView('testinptbl')"
   ]
  },
  {
   "cell_type": "code",
   "execution_count": 21,
   "metadata": {},
   "outputs": [
    {
     "name": "stdout",
     "output_type": "stream",
     "text": [
      "+------+--------+-----+\n",
      "|format|category|limit|\n",
      "+------+--------+-----+\n",
      "|  json|  actors|  100|\n",
      "+------+--------+-----+\n",
      "\n"
     ]
    }
   ],
   "source": [
    "spark.sql(\"select * from testinptbl\").show()"
   ]
  },
  {
   "cell_type": "code",
   "execution_count": 22,
   "metadata": {},
   "outputs": [],
   "source": [
    "prmstest = { 'url' : muvyUri, 'input': \"testinptbl\", 'method' : 'GET', 'readTimeout' : '10000', 'connectionTimeout' : '2000', 'partitions' : '10'}"
   ]
  },
  {
   "cell_type": "code",
   "execution_count": 23,
   "metadata": {},
   "outputs": [],
   "source": [
    "testDF = spark.read.format(\"org.apache.dsext.spark.datasource.rest.RestDataSource\").options(**prmstest).load()"
   ]
  },
  {
   "cell_type": "code",
   "execution_count": 24,
   "metadata": {},
   "outputs": [
    {
     "name": "stdout",
     "output_type": "stream",
     "text": [
      "root\n",
      " |-- category: string (nullable = true)\n",
      " |-- format: string (nullable = true)\n",
      " |-- limit: string (nullable = true)\n",
      " |-- output: struct (nullable = true)\n",
      " |    |-- count: long (nullable = true)\n",
      " |    |-- next: string (nullable = true)\n",
      " |    |-- previous: string (nullable = true)\n",
      " |    |-- results: array (nullable = true)\n",
      " |    |    |-- element: struct (containsNull = true)\n",
      " |    |    |    |-- categories: array (nullable = true)\n",
      " |    |    |    |    |-- element: string (containsNull = true)\n",
      " |    |    |    |-- country: string (nullable = true)\n",
      " |    |    |    |-- full_name: string (nullable = true)\n",
      " |    |    |    |-- id: long (nullable = true)\n",
      "\n"
     ]
    }
   ],
   "source": [
    "testDF.printSchema()"
   ]
  },
  {
   "cell_type": "code",
   "execution_count": 25,
   "metadata": {},
   "outputs": [],
   "source": [
    "from pyspark.sql import types as T\n",
    "import pyspark.sql.functions as F\n",
    "\n",
    "\n",
    "def flatten(df, dbg = False):\n",
    "    complex_fields = dict([\n",
    "        (field.name, field.dataType) \n",
    "        for field in df.schema.fields \n",
    "        if isinstance(field.dataType, T.ArrayType) or isinstance(field.dataType, T.StructType)\n",
    "    ])\n",
    "    \n",
    "    if dbg:\n",
    "        print(complex_fields)\n",
    "        print(len(complex_fields))\n",
    "    \n",
    "    qualify = list(complex_fields.keys())[0] + \"_\"\n",
    "    \n",
    "    if dbg:\n",
    "        print(qualify)\n",
    "\n",
    "    while len(complex_fields) != 0:\n",
    "        col_name = list(complex_fields.keys())[0]\n",
    "        print(col_name)\n",
    "        \n",
    "        if isinstance(complex_fields[col_name], T.StructType):\n",
    "            expanded = [F.col(col_name + '.' + k).alias(col_name + '_' + k) \n",
    "                        for k in [ n.name for n in  complex_fields[col_name]]\n",
    "                       ]\n",
    "            print(expanded)\n",
    "            df = df.select(\"*\", *expanded).drop(col_name)\n",
    "            df.printSchema()\n",
    "    \n",
    "        elif isinstance(complex_fields[col_name], T.ArrayType): \n",
    "            df = df.withColumn(col_name, F.explode(col_name))\n",
    "            df.printSchema()\n",
    "    \n",
    "      \n",
    "        complex_fields = dict([\n",
    "            (field.name, field.dataType)\n",
    "            for field in df.schema.fields\n",
    "            if isinstance(field.dataType, T.ArrayType) or isinstance(field.dataType, T.StructType)\n",
    "        ])\n",
    "        \n",
    "        \n",
    "    for df_col_name in df.columns:\n",
    "        df = df.withColumnRenamed(df_col_name, df_col_name.replace(qualify, \"\"))\n",
    "\n",
    "    return df"
   ]
  },
  {
   "cell_type": "code",
   "execution_count": 26,
   "metadata": {},
   "outputs": [
    {
     "name": "stdout",
     "output_type": "stream",
     "text": [
      "output\n",
      "[Column<b'output.count AS `output_count`'>, Column<b'output.next AS `output_next`'>, Column<b'output.previous AS `output_previous`'>, Column<b'output.results AS `output_results`'>]\n",
      "root\n",
      " |-- category: string (nullable = true)\n",
      " |-- format: string (nullable = true)\n",
      " |-- limit: string (nullable = true)\n",
      " |-- output_count: long (nullable = true)\n",
      " |-- output_next: string (nullable = true)\n",
      " |-- output_previous: string (nullable = true)\n",
      " |-- output_results: array (nullable = true)\n",
      " |    |-- element: struct (containsNull = true)\n",
      " |    |    |-- categories: array (nullable = true)\n",
      " |    |    |    |-- element: string (containsNull = true)\n",
      " |    |    |-- country: string (nullable = true)\n",
      " |    |    |-- full_name: string (nullable = true)\n",
      " |    |    |-- id: long (nullable = true)\n",
      "\n",
      "output_results\n",
      "root\n",
      " |-- category: string (nullable = true)\n",
      " |-- format: string (nullable = true)\n",
      " |-- limit: string (nullable = true)\n",
      " |-- output_count: long (nullable = true)\n",
      " |-- output_next: string (nullable = true)\n",
      " |-- output_previous: string (nullable = true)\n",
      " |-- output_results: struct (nullable = true)\n",
      " |    |-- categories: array (nullable = true)\n",
      " |    |    |-- element: string (containsNull = true)\n",
      " |    |-- country: string (nullable = true)\n",
      " |    |-- full_name: string (nullable = true)\n",
      " |    |-- id: long (nullable = true)\n",
      "\n",
      "output_results\n",
      "[Column<b'output_results.categories AS `output_results_categories`'>, Column<b'output_results.country AS `output_results_country`'>, Column<b'output_results.full_name AS `output_results_full_name`'>, Column<b'output_results.id AS `output_results_id`'>]\n",
      "root\n",
      " |-- category: string (nullable = true)\n",
      " |-- format: string (nullable = true)\n",
      " |-- limit: string (nullable = true)\n",
      " |-- output_count: long (nullable = true)\n",
      " |-- output_next: string (nullable = true)\n",
      " |-- output_previous: string (nullable = true)\n",
      " |-- output_results_categories: array (nullable = true)\n",
      " |    |-- element: string (containsNull = true)\n",
      " |-- output_results_country: string (nullable = true)\n",
      " |-- output_results_full_name: string (nullable = true)\n",
      " |-- output_results_id: long (nullable = true)\n",
      "\n",
      "output_results_categories\n",
      "root\n",
      " |-- category: string (nullable = true)\n",
      " |-- format: string (nullable = true)\n",
      " |-- limit: string (nullable = true)\n",
      " |-- output_count: long (nullable = true)\n",
      " |-- output_next: string (nullable = true)\n",
      " |-- output_previous: string (nullable = true)\n",
      " |-- output_results_categories: string (nullable = true)\n",
      " |-- output_results_country: string (nullable = true)\n",
      " |-- output_results_full_name: string (nullable = true)\n",
      " |-- output_results_id: long (nullable = true)\n",
      "\n"
     ]
    }
   ],
   "source": [
    "fin_df = flatten(testDF)"
   ]
  },
  {
   "cell_type": "code",
   "execution_count": 27,
   "metadata": {},
   "outputs": [
    {
     "name": "stdout",
     "output_type": "stream",
     "text": [
      "root\n",
      " |-- category: string (nullable = true)\n",
      " |-- format: string (nullable = true)\n",
      " |-- limit: string (nullable = true)\n",
      " |-- count: long (nullable = true)\n",
      " |-- next: string (nullable = true)\n",
      " |-- previous: string (nullable = true)\n",
      " |-- results_categories: string (nullable = true)\n",
      " |-- results_country: string (nullable = true)\n",
      " |-- results_full_name: string (nullable = true)\n",
      " |-- results_id: long (nullable = true)\n",
      "\n"
     ]
    }
   ],
   "source": [
    "fin_df.printSchema()"
   ]
  },
  {
   "cell_type": "code",
   "execution_count": 28,
   "metadata": {},
   "outputs": [],
   "source": [
    "fin_df.createOrReplaceTempView(\"MuvyTbl\")"
   ]
  },
  {
   "cell_type": "code",
   "execution_count": 15,
   "metadata": {},
   "outputs": [
    {
     "ename": "AttributeError",
     "evalue": "'DataFrame' object has no attribute 'registerGlobalView'",
     "output_type": "error",
     "traceback": [
      "\u001b[0;31m---------------------------------------------------------------------------\u001b[0m",
      "\u001b[0;31mAttributeError\u001b[0m                            Traceback (most recent call last)",
      "\u001b[0;32m<ipython-input-15-45970a1bf3ed>\u001b[0m in \u001b[0;36m<module>\u001b[0;34m\u001b[0m\n\u001b[0;32m----> 1\u001b[0;31m \u001b[0mfin_df\u001b[0m\u001b[0;34m.\u001b[0m\u001b[0mregisterGlobalView\u001b[0m\u001b[0;34m(\u001b[0m\u001b[0;34m\"MuvyTbl2\"\u001b[0m\u001b[0;34m)\u001b[0m\u001b[0;34m\u001b[0m\u001b[0;34m\u001b[0m\u001b[0m\n\u001b[0m",
      "\u001b[0;32m/opt/spark/python/pyspark/sql/dataframe.py\u001b[0m in \u001b[0;36m__getattr__\u001b[0;34m(self, name)\u001b[0m\n\u001b[1;32m   1399\u001b[0m         \u001b[0;32mif\u001b[0m \u001b[0mname\u001b[0m \u001b[0;32mnot\u001b[0m \u001b[0;32min\u001b[0m \u001b[0mself\u001b[0m\u001b[0;34m.\u001b[0m\u001b[0mcolumns\u001b[0m\u001b[0;34m:\u001b[0m\u001b[0;34m\u001b[0m\u001b[0;34m\u001b[0m\u001b[0m\n\u001b[1;32m   1400\u001b[0m             raise AttributeError(\n\u001b[0;32m-> 1401\u001b[0;31m                 \"'%s' object has no attribute '%s'\" % (self.__class__.__name__, name))\n\u001b[0m\u001b[1;32m   1402\u001b[0m         \u001b[0mjc\u001b[0m \u001b[0;34m=\u001b[0m \u001b[0mself\u001b[0m\u001b[0;34m.\u001b[0m\u001b[0m_jdf\u001b[0m\u001b[0;34m.\u001b[0m\u001b[0mapply\u001b[0m\u001b[0;34m(\u001b[0m\u001b[0mname\u001b[0m\u001b[0;34m)\u001b[0m\u001b[0;34m\u001b[0m\u001b[0;34m\u001b[0m\u001b[0m\n\u001b[1;32m   1403\u001b[0m         \u001b[0;32mreturn\u001b[0m \u001b[0mColumn\u001b[0m\u001b[0;34m(\u001b[0m\u001b[0mjc\u001b[0m\u001b[0;34m)\u001b[0m\u001b[0;34m\u001b[0m\u001b[0;34m\u001b[0m\u001b[0m\n",
      "\u001b[0;31mAttributeError\u001b[0m: 'DataFrame' object has no attribute 'registerGlobalView'"
     ]
    }
   ],
   "source": [
    "fin_df.registerGlobalView(\"MuvyTbl2\")"
   ]
  },
  {
   "cell_type": "code",
   "execution_count": 16,
   "metadata": {},
   "outputs": [],
   "source": [
    "fin_df.createGlobalTempView(\"MuvyTbl2\")"
   ]
  },
  {
   "cell_type": "code",
   "execution_count": 17,
   "metadata": {},
   "outputs": [
    {
     "name": "stdout",
     "output_type": "stream",
     "text": [
      "+--------+------+-----+-----+--------------------+--------+------------------+---------------+-----------------+----------+\n",
      "|category|format|limit|count|                next|previous|results_categories|results_country|results_full_name|results_id|\n",
      "+--------+------+-----+-----+--------------------+--------+------------------+---------------+-----------------+----------+\n",
      "|  actors|  json|  100|10265|http://imdb.hriks...|    null|             actor|           null| Amit Kumar Gupta|         1|\n",
      "|  actors|  json|  100|10265|http://imdb.hriks...|    null|           romance|            IND|    hritik Roshan|         2|\n",
      "|  actors|  json|  100|10265|http://imdb.hriks...|    null|            horror|            IND|    hritik Roshan|         2|\n",
      "|  actors|  json|  100|10265|http://imdb.hriks...|    null|             actor|           null|      Robert D jr|         3|\n",
      "|  actors|  json|  100|10265|http://imdb.hriks...|    null|           romance|            IND|    hritik Roshan|         4|\n",
      "|  actors|  json|  100|10265|http://imdb.hriks...|    null|            horror|            IND|    hritik Roshan|         4|\n",
      "|  actors|  json|  100|10265|http://imdb.hriks...|    null|             actor|            USA| Joel David Moore|         5|\n",
      "|  actors|  json|  100|10265|http://imdb.hriks...|    null|             actor|            USA|      CCH Pounder|         6|\n",
      "|  actors|  json|  100|10265|http://imdb.hriks...|    null|             actor|            USA|        Wes Studi|         7|\n",
      "|  actors|  json|  100|10265|http://imdb.hriks...|    null|           romance|            IND|    hritik Roshan|         8|\n",
      "|  actors|  json|  100|10265|http://imdb.hriks...|    null|            horror|            IND|    hritik Roshan|         8|\n",
      "|  actors|  json|  100|10265|http://imdb.hriks...|    null|             actor|            USA|      Johnny Depp|         9|\n",
      "|  actors|  json|  100|10265|http://imdb.hriks...|    null|             actor|            USA|   Jack Davenport|        10|\n",
      "|  actors|  json|  100|10265|http://imdb.hriks...|    null|             actor|             UK|     Rory Kinnear|        11|\n",
      "|  actors|  json|  100|10265|http://imdb.hriks...|    null|             actor|             UK|  Christoph Waltz|        12|\n",
      "|  actors|  json|  100|10265|http://imdb.hriks...|    null|             actor|             UK| Stephanie Sigman|        13|\n",
      "|  actors|  json|  100|10265|http://imdb.hriks...|    null|             actor|            USA|   Christian Bale|        14|\n",
      "|  actors|  json|  100|10265|http://imdb.hriks...|    null|           romance|            IND|    hritik Roshan|        15|\n",
      "|  actors|  json|  100|10265|http://imdb.hriks...|    null|            horror|            IND|    hritik Roshan|        15|\n",
      "|  actors|  json|  100|10265|http://imdb.hriks...|    null|           romance|            IND|    hritik Roshan|        16|\n",
      "+--------+------+-----+-----+--------------------+--------+------------------+---------------+-----------------+----------+\n",
      "only showing top 20 rows\n",
      "\n"
     ]
    }
   ],
   "source": [
    "spark.sql(\"select * from MuvyTbl\").show()"
   ]
  },
  {
   "cell_type": "code",
   "execution_count": null,
   "metadata": {},
   "outputs": [],
   "source": []
  }
 ],
 "metadata": {
  "kernelspec": {
   "display_name": "Python 3",
   "language": "python",
   "name": "python3"
  },
  "language_info": {
   "codemirror_mode": {
    "name": "ipython",
    "version": 3
   },
   "file_extension": ".py",
   "mimetype": "text/x-python",
   "name": "python",
   "nbconvert_exporter": "python",
   "pygments_lexer": "ipython3",
   "version": "3.6.9"
  }
 },
 "nbformat": 4,
 "nbformat_minor": 2
}
