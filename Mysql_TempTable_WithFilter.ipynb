{
 "cells": [
  {
   "cell_type": "markdown",
   "metadata": {},
   "source": [
    "Test save"
   ]
  },
  {
   "cell_type": "code",
   "execution_count": 1,
   "metadata": {
    "scrolled": true
   },
   "outputs": [],
   "source": [
    "from pyspark.sql import SQLContext, HiveContext\n",
    "from py4j.java_gateway import java_import"
   ]
  },
  {
   "cell_type": "markdown",
   "metadata": {},
   "source": [
    "#    .config('hive.server2.transport.mode',\"http\")\\\n",
    "#    .config(\"hive.server2.http.endpoint\", \"cliservice\")\\\n",
    "#    .config('hive.server2.thrift.http.port', '10001') \\"
   ]
  },
  {
   "cell_type": "code",
   "execution_count": 2,
   "metadata": {},
   "outputs": [],
   "source": [
    "spark = SparkSession \\\n",
    "    .builder \\\n",
    "    .appName('restlogs_qlik') \\\n",
    "    .enableHiveSupport()\\\n",
    "    .config('spark.sql.hive.thriftServer.singleSession', True)\\\n",
    "    .config('hive.server2.authentication','NONE')\\\n",
    "    .config('hive.server2.thrift.port', '10001') \\\n",
    "    .getOrCreate()"
   ]
  },
  {
   "cell_type": "code",
   "execution_count": 3,
   "metadata": {},
   "outputs": [],
   "source": [
    "sc=spark.sparkContext\n",
    "sc.setLogLevel('INFO')"
   ]
  },
  {
   "cell_type": "code",
   "execution_count": 4,
   "metadata": {},
   "outputs": [
    {
     "data": {
      "text/plain": [
       "JavaObject id=o42"
      ]
     },
     "execution_count": 4,
     "metadata": {},
     "output_type": "execute_result"
    }
   ],
   "source": [
    "#Order matters! \n",
    "java_import(sc._gateway.jvm, \"\")\n",
    "sc._gateway.jvm.org.apache.spark.sql.hive.thriftserver.HiveThriftServer2.startWithContext(spark._jwrapped)"
   ]
  },
  {
   "cell_type": "code",
   "execution_count": 5,
   "metadata": {},
   "outputs": [],
   "source": [
    "dataframe_mysql = spark.read.format(\"jdbc\").option(\"url\", \"jdbc:mysql://relational.fit.cvut.cz/imdb_ijs\").option(\"driver\", \"com.mysql.jdbc.Driver\").option(\"dbtable\", \"actors\").option(\"user\", \"guest\").option(\"password\", \"relational\").load()"
   ]
  },
  {
   "cell_type": "code",
   "execution_count": 7,
   "metadata": {},
   "outputs": [
    {
     "name": "stdout",
     "output_type": "stream",
     "text": [
      "+---+------------+--------------------+------+\n",
      "| id|  first_name|           last_name|gender|\n",
      "+---+------------+--------------------+------+\n",
      "|  2|     Michael|  'babeepower' Viera|     M|\n",
      "|  3|        Eloy|         'Chincheta'|     M|\n",
      "|  4|    Dieguito|         'El Cigala'|     M|\n",
      "|  5|     Antonio|    'El de Chipiona'|     M|\n",
      "|  6|        José|        'El Francés'|     M|\n",
      "|  7|       Félix|           'El Gato'|     M|\n",
      "|  8|     Marcial|        'El Jalisco'|     M|\n",
      "|  9|        José|         'El Morito'|     M|\n",
      "| 10|   Francisco|'El Niño de la Ma...|     M|\n",
      "| 11|      Víctor|         'El Payaso'|     M|\n",
      "| 12|     Antonio|       'El Pescaíto'|     M|\n",
      "| 13|        Luis|          'El Plojo'|     M|\n",
      "| 14|       Janny|      'el Portugues'|     M|\n",
      "| 15|     Antonio|         'El Rilete'|     M|\n",
      "| 16|    Baltazar|           'El Toro'|     M|\n",
      "| 17|Luis Roberto|           'Formiga'|     M|\n",
      "| 18|  Murray the|                 'K'|     M|\n",
      "| 19|      Néstor|        'Kick Boxer'|     M|\n",
      "| 20|        Tony|         'La Chispa'|     M|\n",
      "| 21|     Pollino|            'Romero'|     M|\n",
      "+---+------------+--------------------+------+\n",
      "only showing top 20 rows\n",
      "\n"
     ]
    }
   ],
   "source": [
    "dataframe_mysql.show()"
   ]
  },
  {
   "cell_type": "code",
   "execution_count": null,
   "metadata": {},
   "outputs": [],
   "source": [
    "my_df = d"
   ]
  },
  {
   "cell_type": "code",
   "execution_count": 8,
   "metadata": {},
   "outputs": [],
   "source": [
    "dataframe_mysql.createOrReplaceTempView(\"Test2\")"
   ]
  },
  {
   "cell_type": "code",
   "execution_count": 7,
   "metadata": {},
   "outputs": [],
   "source": [
    "df_movies = spark.read.format(\"jdbc\").option(\"url\", \"jdbc:mysql://relational.fit.cvut.cz/imdb_ijs\").option(\"driver\", \"com.mysql.jdbc.Driver\").option(\"dbtable\", \"movies\").option(\"user\", \"guest\").option(\"password\", \"relational\").load()"
   ]
  },
  {
   "cell_type": "code",
   "execution_count": 8,
   "metadata": {},
   "outputs": [],
   "source": [
    "df_movies.createOrReplaceTempView(\"Butt\")"
   ]
  },
  {
   "cell_type": "code",
   "execution_count": null,
   "metadata": {},
   "outputs": [],
   "source": []
  }
 ],
 "metadata": {
  "kernelspec": {
   "display_name": "Python 3",
   "language": "python",
   "name": "python3"
  },
  "language_info": {
   "codemirror_mode": {
    "name": "ipython",
    "version": 3
   },
   "file_extension": ".py",
   "mimetype": "text/x-python",
   "name": "python",
   "nbconvert_exporter": "python",
   "pygments_lexer": "ipython3",
   "version": "3.6.9"
  }
 },
 "nbformat": 4,
 "nbformat_minor": 2
}
