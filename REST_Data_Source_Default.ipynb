{
 "cells": [
  {
   "cell_type": "code",
   "execution_count": 1,
   "metadata": {},
   "outputs": [],
   "source": [
    "sodauri = 'https://soda.demo.socrata.com/resource/6yvf-kk3n.json'"
   ]
  },
  {
   "cell_type": "code",
   "execution_count": 2,
   "metadata": {},
   "outputs": [],
   "source": [
    "sodainputDf = spark.read.option('header', 'true').csv('./sodainput.csv')"
   ]
  },
  {
   "cell_type": "code",
   "execution_count": 3,
   "metadata": {},
   "outputs": [],
   "source": [
    "sodainputDf.createOrReplaceTempView('sodainputtbl')"
   ]
  },
  {
   "cell_type": "code",
   "execution_count": 4,
   "metadata": {},
   "outputs": [],
   "source": [
    "prmsSoda = { 'url' : sodauri, 'input' : 'sodainputtbl', 'method' : 'GET', 'readTimeout' : '10000', 'connectionTimeout' : '2000', 'partitions' : '10'}"
   ]
  },
  {
   "cell_type": "code",
   "execution_count": 5,
   "metadata": {},
   "outputs": [],
   "source": [
    "sodasDf = spark.read.format(\"org.apache.dsext.spark.datasource.rest.RestDataSource\").options(**prmsSoda).load()"
   ]
  },
  {
   "cell_type": "code",
   "execution_count": 6,
   "metadata": {},
   "outputs": [
    {
     "name": "stdout",
     "output_type": "stream",
     "text": [
      "root\n",
      " |-- output: array (nullable = true)\n",
      " |    |-- element: struct (containsNull = true)\n",
      " |    |    |-- depth: string (nullable = true)\n",
      " |    |    |-- earthquake_id: string (nullable = true)\n",
      " |    |    |-- location: struct (nullable = true)\n",
      " |    |    |    |-- coordinates: array (nullable = true)\n",
      " |    |    |    |    |-- element: double (containsNull = true)\n",
      " |    |    |    |-- type: string (nullable = true)\n",
      " |    |    |-- magnitude: string (nullable = true)\n",
      " |    |    |-- number_of_stations: string (nullable = true)\n",
      " |    |    |-- region: string (nullable = true)\n",
      " |    |    |-- source: string (nullable = true)\n",
      " |    |    |-- version: string (nullable = true)\n",
      " |-- region: string (nullable = true)\n",
      " |-- source: string (nullable = true)\n",
      "\n"
     ]
    }
   ],
   "source": [
    "sodasDf.printSchema() "
   ]
  },
  {
   "cell_type": "code",
   "execution_count": 7,
   "metadata": {},
   "outputs": [],
   "source": [
    "sodasDf.createOrReplaceTempView(\"sodastbl\")"
   ]
  },
  {
   "cell_type": "code",
   "execution_count": 17,
   "metadata": {},
   "outputs": [
    {
     "name": "stdout",
     "output_type": "stream",
     "text": [
      "+--------+--------------------+-------+\n",
      "|col_name|           data_type|comment|\n",
      "+--------+--------------------+-------+\n",
      "|  output|array<struct<dept...|   null|\n",
      "|  region|              string|   null|\n",
      "|  source|              string|   null|\n",
      "+--------+--------------------+-------+\n",
      "\n"
     ]
    }
   ],
   "source": [
    "spark.sql(\"describe sodastbl\").show()"
   ]
  },
  {
   "cell_type": "code",
   "execution_count": 10,
   "metadata": {},
   "outputs": [
    {
     "name": "stdout",
     "output_type": "stream",
     "text": [
      "+------+--------------------+-----+-------------+--------------------+---------+------------------+--------------------+------+-------+\n",
      "|source|              region|depth|earthquake_id|            location|magnitude|number_of_stations|              region|source|version|\n",
      "+------+--------------------+-----+-------------+--------------------+---------+------------------+--------------------+------+-------+\n",
      "|    nn|              Nevada|  9.2|     00388520|[[-117.938, 38.66...|      2.3|                 9|              Nevada|    nn|      9|\n",
      "|    nn|              Nevada|  4.1|     00388527|[[-115.701, 36.23...|      1.1|                15|              Nevada|    nn|      9|\n",
      "|    nn|              Nevada|  8.5|     00388458|[[-118.4548, 38.4...|      1.6|                13|              Nevada|    nn|      9|\n",
      "|    nn|              Nevada|    0|     00388285|[[-117.4526, 41.2...|      3.9|                 6|              Nevada|    nn|      9|\n",
      "|    nn|              Nevada|  7.5|     00388209|[[-116.3097, 36.7...|      1.2|                22|              Nevada|    nn|      9|\n",
      "|    nn|              Nevada|  8.5|     00388294|[[-118.1908, 38.2...|      1.1|                11|              Nevada|    nn|      9|\n",
      "|    nn|              Nevada|  5.7|     00388528|[[-117.9548, 38.6...|      1.3|                13|              Nevada|    nn|      9|\n",
      "|    nn|              Nevada|    0|     00388356|[[-117.4855, 41.2...|      2.7|                 5|              Nevada|    nn|      9|\n",
      "|    nn|              Nevada|  8.8|     00388502|[[-118.4535, 38.4...|      2.1|                17|              Nevada|    nn|      9|\n",
      "|    nn|              Nevada|  9.3|     00388336|[[-116.9536, 37.2...|        1|                21|              Nevada|    nn|      9|\n",
      "|    nn|              Nevada|  8.4|     00388534|[[-115.7475, 36.8...|        1|                 5|              Nevada|    nn|      9|\n",
      "|    nn|              Nevada|    3|     00388467|[[-116.9616, 39.5...|      2.4|                 6|              Nevada|    nn|      9|\n",
      "|    nn|              Nevada|    0|     00388312|[[-117.4637, 41.2...|      2.9|                 7|              Nevada|    nn|      9|\n",
      "|    nn|              Nevada| 35.7|     00388123|[[-117.7907, 39.6...|      2.2|                15|              Nevada|    nn|      9|\n",
      "|    nn|              Nevada|  6.6|     00388164|[[-118.2461, 38.5...|      1.2|                10|              Nevada|    nn|      9|\n",
      "|    pr|Virgin Islands re...|   25|     12258002|[[-64.3056, 19.61...|      3.1|                 3|Virgin Islands re...|    pr|      0|\n",
      "|    pr|Virgin Islands re...|   43|     12252002|[[-64.408, 19.611...|      3.1|                 6|Virgin Islands re...|    pr|      0|\n",
      "|    pr|Virgin Islands re...|   47|     12256005|[[-63.8544, 19.33...|      3.1|                 3|Virgin Islands re...|    pr|      0|\n",
      "|    pr|Virgin Islands re...|   43|     12257002|[[-64.568, 19.130...|      3.1|                 4|Virgin Islands re...|    pr|      0|\n",
      "|    pr|Virgin Islands re...|   60|     12252005|[[-64.17, 19.6184...|      3.3|                 7|Virgin Islands re...|    pr|      0|\n",
      "+------+--------------------+-----+-------------+--------------------+---------+------------------+--------------------+------+-------+\n",
      "only showing top 20 rows\n",
      "\n"
     ]
    }
   ],
   "source": [
    "spark.sql(\"select source,region, inline(output) from sodastbl\").show()"
   ]
  },
  {
   "cell_type": "code",
   "execution_count": 11,
   "metadata": {},
   "outputs": [
    {
     "name": "stdout",
     "output_type": "stream",
     "text": [
      "+--------------------+\n",
      "|               depth|\n",
      "+--------------------+\n",
      "|[9.2, 4.1, 8.5, 0...|\n",
      "|[25, 43, 47, 43, ...|\n",
      "|                  []|\n",
      "+--------------------+\n",
      "\n"
     ]
    }
   ],
   "source": [
    "spark.sql(\"select output.depth from sodastbl\").show()"
   ]
  },
  {
   "cell_type": "code",
   "execution_count": 15,
   "metadata": {},
   "outputs": [
    {
     "ename": "AnalysisException",
     "evalue": "cannot resolve 'inline(sodastbl.`output`.`depth`)' due to data type mismatch: input to function inline should be array of struct type, not array<string>; line 1 pos 23;\n'Project [source#49, region#48, unresolvedalias(inline(output#47.depth), None)]\n+- SubqueryAlias sodastbl\n   +- Relation[output#47,region#48,source#49] RESTRelation(https://soda.demo.socrata.com/resource/6yvf-kk3n.json)\n",
     "output_type": "error",
     "traceback": [
      "\u001b[0;31m---------------------------------------------------------------------------\u001b[0m",
      "\u001b[0;31mAnalysisException\u001b[0m                         Traceback (most recent call last)",
      "\u001b[0;32m<ipython-input-15-7e09643ee398>\u001b[0m in \u001b[0;36m<module>\u001b[0;34m\u001b[0m\n\u001b[0;32m----> 1\u001b[0;31m \u001b[0mspark\u001b[0m\u001b[0;34m.\u001b[0m\u001b[0msql\u001b[0m\u001b[0;34m(\u001b[0m\u001b[0;34m\"select source, region, inline(output.depth) from sodastbl\"\u001b[0m\u001b[0;34m)\u001b[0m\u001b[0;34m.\u001b[0m\u001b[0mshow\u001b[0m\u001b[0;34m(\u001b[0m\u001b[0;34m)\u001b[0m\u001b[0;34m\u001b[0m\u001b[0;34m\u001b[0m\u001b[0m\n\u001b[0m",
      "\u001b[0;32m/opt/spark/python/pyspark/sql/session.py\u001b[0m in \u001b[0;36msql\u001b[0;34m(self, sqlQuery)\u001b[0m\n\u001b[1;32m    647\u001b[0m         \u001b[0;34m[\u001b[0m\u001b[0mRow\u001b[0m\u001b[0;34m(\u001b[0m\u001b[0mf1\u001b[0m\u001b[0;34m=\u001b[0m\u001b[0;36m1\u001b[0m\u001b[0;34m,\u001b[0m \u001b[0mf2\u001b[0m\u001b[0;34m=\u001b[0m\u001b[0;34mu'row1'\u001b[0m\u001b[0;34m)\u001b[0m\u001b[0;34m,\u001b[0m \u001b[0mRow\u001b[0m\u001b[0;34m(\u001b[0m\u001b[0mf1\u001b[0m\u001b[0;34m=\u001b[0m\u001b[0;36m2\u001b[0m\u001b[0;34m,\u001b[0m \u001b[0mf2\u001b[0m\u001b[0;34m=\u001b[0m\u001b[0;34mu'row2'\u001b[0m\u001b[0;34m)\u001b[0m\u001b[0;34m,\u001b[0m \u001b[0mRow\u001b[0m\u001b[0;34m(\u001b[0m\u001b[0mf1\u001b[0m\u001b[0;34m=\u001b[0m\u001b[0;36m3\u001b[0m\u001b[0;34m,\u001b[0m \u001b[0mf2\u001b[0m\u001b[0;34m=\u001b[0m\u001b[0;34mu'row3'\u001b[0m\u001b[0;34m)\u001b[0m\u001b[0;34m]\u001b[0m\u001b[0;34m\u001b[0m\u001b[0;34m\u001b[0m\u001b[0m\n\u001b[1;32m    648\u001b[0m         \"\"\"\n\u001b[0;32m--> 649\u001b[0;31m         \u001b[0;32mreturn\u001b[0m \u001b[0mDataFrame\u001b[0m\u001b[0;34m(\u001b[0m\u001b[0mself\u001b[0m\u001b[0;34m.\u001b[0m\u001b[0m_jsparkSession\u001b[0m\u001b[0;34m.\u001b[0m\u001b[0msql\u001b[0m\u001b[0;34m(\u001b[0m\u001b[0msqlQuery\u001b[0m\u001b[0;34m)\u001b[0m\u001b[0;34m,\u001b[0m \u001b[0mself\u001b[0m\u001b[0;34m.\u001b[0m\u001b[0m_wrapped\u001b[0m\u001b[0;34m)\u001b[0m\u001b[0;34m\u001b[0m\u001b[0;34m\u001b[0m\u001b[0m\n\u001b[0m\u001b[1;32m    650\u001b[0m \u001b[0;34m\u001b[0m\u001b[0m\n\u001b[1;32m    651\u001b[0m     \u001b[0;34m@\u001b[0m\u001b[0msince\u001b[0m\u001b[0;34m(\u001b[0m\u001b[0;36m2.0\u001b[0m\u001b[0;34m)\u001b[0m\u001b[0;34m\u001b[0m\u001b[0;34m\u001b[0m\u001b[0m\n",
      "\u001b[0;32m/opt/spark/python/lib/py4j-0.10.9-src.zip/py4j/java_gateway.py\u001b[0m in \u001b[0;36m__call__\u001b[0;34m(self, *args)\u001b[0m\n\u001b[1;32m   1303\u001b[0m         \u001b[0manswer\u001b[0m \u001b[0;34m=\u001b[0m \u001b[0mself\u001b[0m\u001b[0;34m.\u001b[0m\u001b[0mgateway_client\u001b[0m\u001b[0;34m.\u001b[0m\u001b[0msend_command\u001b[0m\u001b[0;34m(\u001b[0m\u001b[0mcommand\u001b[0m\u001b[0;34m)\u001b[0m\u001b[0;34m\u001b[0m\u001b[0;34m\u001b[0m\u001b[0m\n\u001b[1;32m   1304\u001b[0m         return_value = get_return_value(\n\u001b[0;32m-> 1305\u001b[0;31m             answer, self.gateway_client, self.target_id, self.name)\n\u001b[0m\u001b[1;32m   1306\u001b[0m \u001b[0;34m\u001b[0m\u001b[0m\n\u001b[1;32m   1307\u001b[0m         \u001b[0;32mfor\u001b[0m \u001b[0mtemp_arg\u001b[0m \u001b[0;32min\u001b[0m \u001b[0mtemp_args\u001b[0m\u001b[0;34m:\u001b[0m\u001b[0;34m\u001b[0m\u001b[0;34m\u001b[0m\u001b[0m\n",
      "\u001b[0;32m/opt/spark/python/pyspark/sql/utils.py\u001b[0m in \u001b[0;36mdeco\u001b[0;34m(*a, **kw)\u001b[0m\n\u001b[1;32m    132\u001b[0m                 \u001b[0;31m# Hide where the exception came from that shows a non-Pythonic\u001b[0m\u001b[0;34m\u001b[0m\u001b[0;34m\u001b[0m\u001b[0;34m\u001b[0m\u001b[0m\n\u001b[1;32m    133\u001b[0m                 \u001b[0;31m# JVM exception message.\u001b[0m\u001b[0;34m\u001b[0m\u001b[0;34m\u001b[0m\u001b[0;34m\u001b[0m\u001b[0m\n\u001b[0;32m--> 134\u001b[0;31m                 \u001b[0mraise_from\u001b[0m\u001b[0;34m(\u001b[0m\u001b[0mconverted\u001b[0m\u001b[0;34m)\u001b[0m\u001b[0;34m\u001b[0m\u001b[0;34m\u001b[0m\u001b[0m\n\u001b[0m\u001b[1;32m    135\u001b[0m             \u001b[0;32melse\u001b[0m\u001b[0;34m:\u001b[0m\u001b[0;34m\u001b[0m\u001b[0;34m\u001b[0m\u001b[0m\n\u001b[1;32m    136\u001b[0m                 \u001b[0;32mraise\u001b[0m\u001b[0;34m\u001b[0m\u001b[0;34m\u001b[0m\u001b[0m\n",
      "\u001b[0;32m/opt/spark/python/pyspark/sql/utils.py\u001b[0m in \u001b[0;36mraise_from\u001b[0;34m(e)\u001b[0m\n",
      "\u001b[0;31mAnalysisException\u001b[0m: cannot resolve 'inline(sodastbl.`output`.`depth`)' due to data type mismatch: input to function inline should be array of struct type, not array<string>; line 1 pos 23;\n'Project [source#49, region#48, unresolvedalias(inline(output#47.depth), None)]\n+- SubqueryAlias sodastbl\n   +- Relation[output#47,region#48,source#49] RESTRelation(https://soda.demo.socrata.com/resource/6yvf-kk3n.json)\n"
     ]
    }
   ],
   "source": [
    "spark.sql(\"select source, region, inline(output.depth) from sodastbl\").show()"
   ]
  },
  {
   "cell_type": "code",
   "execution_count": null,
   "metadata": {},
   "outputs": [],
   "source": []
  }
 ],
 "metadata": {
  "kernelspec": {
   "display_name": "Python 3",
   "language": "python",
   "name": "python3"
  },
  "language_info": {
   "codemirror_mode": {
    "name": "ipython",
    "version": 3
   },
   "file_extension": ".py",
   "mimetype": "text/x-python",
   "name": "python",
   "nbconvert_exporter": "python",
   "pygments_lexer": "ipython3",
   "version": "3.6.9"
  }
 },
 "nbformat": 4,
 "nbformat_minor": 2
}
